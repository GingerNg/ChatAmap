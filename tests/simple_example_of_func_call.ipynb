{
 "cells": [
  {
   "attachments": {},
   "cell_type": "markdown",
   "metadata": {},
   "source": [
    "[a simple example of openai-funciton-call-plugin](https://github.com/hx23840/openai-funciton-call-plugin)"
   ]
  },
  {
   "attachments": {},
   "cell_type": "markdown",
   "metadata": {
    "collapsed": false
   },
   "source": [
    "# 查找插件\n",
    "可以通过插件搜索工具PlugFinder来查找插件，也是ChatGPT的插件，可以在插件商店搜索并安装\n",
    "使用PlugFinder搜索你想调用的插件，例如PDF插件，安装后，可以在ChatGPT中调用\n",
    "\n",
    "可以参考下面分享的链接\n",
    "https://chat.openai.com/share/97e3e3d8-722e-4caf-9f36-bb5359c21147\n",
    "\n",
    "点击插件的名字，就可以跳转到插件的定义，如AskYourPdf，定义地址是：https://plugin.askyourpdf.com/.well-known/openapi.yaml\n",
    "需要检查插件是否有用户授权，授权的暂时无法调用\n",
    "定义在：https://plugin.askyourpdf.com/.well-known/ai-plugin.json,\n",
    "\"auth\": {\n",
    "    \"type\": \"none\"\n",
    "  },\n",
    "如果是none，代表没有授权，可以直接调用"
   ]
  },
  {
   "attachments": {},
   "cell_type": "markdown",
   "metadata": {
    "collapsed": false
   },
   "source": [
    "# 下面演示upload这个API调用\n",
    "函数可以让ChatGPT帮我们生成，具体可参考下面下面分享的链接\n",
    "https://chat.openai.com/share/50d8c3ea-a6d3-4e40-8ca0-08ccc2e18bdb"
   ]
  },
  {
   "cell_type": "code",
   "execution_count": 1,
   "metadata": {
    "collapsed": false
   },
   "outputs": [
    {
     "name": "stdout",
     "output_type": "stream",
     "text": [
      "{'docId': 'dff4ba5d-0c37-43b8-81bf-44ddf7fddf2a', 'summary': 'The paper proposes a new network architecture called the Transformer, which is based solely on attention mechanisms and does not use recurrent or convolutional neural networks. The Transformer is shown to be superior in quality, more parallelizable, and requires significantly less time to train than existing models. The model achieves state-of-the-art results on machine translation tasks and generalizes well to other tasks such as English constituency parsing. The authors credit the success of the Transformer to the contributions of multiple individuals in designing and implementing the model.', 'extra_instructions': 'Inform the user they can delete their document at any point by visiting https://askyourpdf.com/delete/{APPEND_DOC_ID_HERE}. Also prompt the user to ask more questions'}\n"
     ]
    }
   ],
   "source": [
    "import requests\n",
    "\n",
    "def send_request(method, url, data=None, params=None):\n",
    "    response = requests.request(method, url, json=data, params=params)\n",
    "    response.raise_for_status()\n",
    "    return response.json()\n",
    "\n",
    "# Base URL\n",
    "BASE_URL = \"https://plugin.askyourpdf.com\"  # 请将这个URL替换为实际的API URL\n",
    "\n",
    "# 用来上传pdf到向量数据库，以便后面查询\n",
    "def download_pdf(url):\n",
    "    path = \"/api/download_pdf\"\n",
    "    full_url = BASE_URL + path\n",
    "    params = {\"url\": url}\n",
    "    response = send_request(\"POST\", full_url, params=params)\n",
    "    return response\n",
    "\n",
    "# 用来查询pdf的内容，需要指定doc_id和查询内容\n",
    "def perform_query(doc_id, query):\n",
    "    path = \"/query\"\n",
    "    full_url = BASE_URL + path\n",
    "    data = {\"doc_id\": doc_id, \"query\": query}\n",
    "    response = send_request(\"POST\", full_url, data=data)\n",
    "    return response\n",
    "\n",
    "# 调用上传pdf的例子\n",
    "pdf_url = \"https://arxiv.org/pdf/1706.03762.pdf\"\n",
    "response = download_pdf(pdf_url)\n",
    "print(response)\n"
   ]
  },
  {
   "cell_type": "code",
   "execution_count": 7,
   "metadata": {
    "collapsed": false
   },
   "outputs": [
    {
     "name": "stdout",
     "output_type": "stream",
     "text": [
      "{'results': [{'doc_id': 'dff4ba5d-0c37-43b8-81bf-44ddf7fddf2a', 'text': 'Multi-head attention allows the model to jointly attend to information from different representation\\nsubspaces at different positions. With a single attention head, averaging inhibits this.\\nMultiHead(Q, K, V ) = Concat(head1, ..., headh)W O\\nwhere headi = Attention(QW Q\\ni , KW K\\ni , V W V\\ni )\\nWhere the projections are parameter matrices W Q\\ni\\n∈ Rdmodel×dk, W K\\ni\\n∈ Rdmodel×dk, W V\\ni\\n∈ Rdmodel×dv\\nand W O ∈ Rhdv×dmodel.\\nIn this work we employ h = 8 parallel attention layers, or heads. For each of these we use\\ndk = dv = dmodel/h = 64. Due to the reduced dimension of each head, the total computational cost\\nis similar to that of single-head attention with full dimensionality.\\n3.2.3\\nApplications of Attention in our Model\\nThe Transformer uses multi-head attention in three different ways:\\n• In \"encoder-decoder attention\" layers, the queries come from the previous decoder layer,\\nand the memory keys and values come from the output of the encoder. This allows every\\nposition in the decoder to attend over all positions in the input sequence. This mimics the\\ntypical encoder-decoder attention mechanisms in sequence-to-sequence models such as\\n[38, 2, 9].\\n• The encoder contains self-attention layers. In a self-attention layer all of the keys, values\\nand queries come from the same place, in this case, the output of the previous layer in the\\nencoder. Each position in the encoder can attend to all positions in the previous layer of the\\nencoder.\\n• Similarly, self-attention layers in the decoder allow each position in the decoder to attend to\\nall positions in the decoder up to and including that position. We need to prevent leftward\\ninformation ﬂow in the decoder to preserve the auto-regressive property. We implement this\\ninside of scaled dot-product attention by masking out (setting to −∞) all values in the input\\nof the softmax which correspond to illegal connections. See Figure 2.\\n3.3\\nPosition-wise Feed-Forward Networks\\nIn addition to attention sub-layers, each of the layers in our encoder and decoder contains a fully\\nconnected feed-forward network, which is applied to each position separately and identically. This\\nconsists of two linear transformations with a ReLU activation in between.\\nFFN(x) = max(0, xW1 + b1)W2 + b2\\n(2)\\nWhile the linear transformations are the same across different positions, they use different parameters\\nfrom layer to layer. Another way of describing this is as two convolutions with kernel size 1.\\nThe dimensionality of input and output is dmodel = 512, and the inner-layer has dimensionality\\ndff = 2048.\\n3.4\\nEmbeddings and Softmax\\nSimilarly to other sequence transduction models, we use learned embeddings to convert the input\\ntokens and output tokens to vectors of dimension dmodel. We also use the usual learned linear transfor-\\nmation and softmax function to convert the decoder output to predicted next-token probabilities. In\\nour model, we share the same weight matrix between the two embedding layers and the pre-softmax\\nlinear transformation, similar to [30]. In the embedding layers, we multiply those weights by √dmodel.\\n3.5\\nPositional Encoding\\nSince our model contains no recurrence and no convolution, in order for the model to make use of the\\norder of the sequence, we must inject some information about the relative or absolute position of the\\n5', 'metadata': {'source': '/tmp/dff4ba5d-0c37-43b8-81bf-44ddf7fddf2a.pdf', 'page': 4, 'title': '', 'author': ''}}, {'doc_id': 'dff4ba5d-0c37-43b8-81bf-44ddf7fddf2a', 'text': 'Attention Visualizations\\nInput-Input Layer5\\nIt\\nis\\nin\\nthis\\nspirit\\nthat\\na\\nmajority\\nof\\nAmerican\\ngovernments\\nhave\\npassed\\nnew\\nlaws\\nsince\\n2009\\nmaking\\nthe\\nregistration\\nor\\nvoting\\nprocess\\nmore\\ndifficult\\n.\\n<EOS>\\n<pad>\\n<pad>\\n<pad>\\n<pad>\\n<pad>\\n<pad>\\nIt\\nis\\nin\\nthis\\nspirit\\nthat\\na\\nmajority\\nof\\nAmerican\\ngovernments\\nhave\\npassed\\nnew\\nlaws\\nsince\\n2009\\nmaking\\nthe\\nregistration\\nor\\nvoting\\nprocess\\nmore\\ndifficult\\n.\\n<EOS>\\n<pad>\\n<pad>\\n<pad>\\n<pad>\\n<pad>\\n<pad>\\nFigure 3: An example of the attention mechanism following long-distance dependencies in the\\nencoder self-attention in layer 5 of 6. Many of the attention heads attend to a distant dependency of\\nthe verb ‘making’, completing the phrase ‘making...more difﬁcult’. Attentions here shown only for\\nthe word ‘making’. Different colors represent different heads. Best viewed in color.\\n13', 'metadata': {'source': '/tmp/dff4ba5d-0c37-43b8-81bf-44ddf7fddf2a.pdf', 'page': 12, 'title': '', 'author': ''}}, {'doc_id': 'dff4ba5d-0c37-43b8-81bf-44ddf7fddf2a', 'text': 'Attention Is All You Need\\nAshish Vaswani∗\\nGoogle Brain\\navaswani@google.com\\nNoam Shazeer∗\\nGoogle Brain\\nnoam@google.com\\nNiki Parmar∗\\nGoogle Research\\nnikip@google.com\\nJakob Uszkoreit∗\\nGoogle Research\\nusz@google.com\\nLlion Jones∗\\nGoogle Research\\nllion@google.com\\nAidan N. Gomez∗ †\\nUniversity of Toronto\\naidan@cs.toronto.edu\\nŁukasz Kaiser∗\\nGoogle Brain\\nlukaszkaiser@google.com\\nIllia Polosukhin∗ ‡\\nillia.polosukhin@gmail.com\\nAbstract\\nThe dominant sequence transduction models are based on complex recurrent or\\nconvolutional neural networks that include an encoder and a decoder. The best\\nperforming models also connect the encoder and decoder through an attention\\nmechanism. We propose a new simple network architecture, the Transformer,\\nbased solely on attention mechanisms, dispensing with recurrence and convolutions\\nentirely. Experiments on two machine translation tasks show these models to\\nbe superior in quality while being more parallelizable and requiring signiﬁcantly\\nless time to train. Our model achieves 28.4 BLEU on the WMT 2014 English-\\nto-German translation task, improving over the existing best results, including\\nensembles, by over 2 BLEU. On the WMT 2014 English-to-French translation task,\\nour model establishes a new single-model state-of-the-art BLEU score of 41.8 after\\ntraining for 3.5 days on eight GPUs, a small fraction of the training costs of the\\nbest models from the literature. We show that the Transformer generalizes well to\\nother tasks by applying it successfully to English constituency parsing both with\\nlarge and limited training data.\\n1\\nIntroduction\\nRecurrent neural networks, long short-term memory [13] and gated recurrent [7] neural networks\\nin particular, have been ﬁrmly established as state of the art approaches in sequence modeling and\\n∗Equal contribution. Listing order is random. Jakob proposed replacing RNNs with self-attention and started\\nthe effort to evaluate this idea. Ashish, with Illia, designed and implemented the ﬁrst Transformer models and\\nhas been crucially involved in every aspect of this work. Noam proposed scaled dot-product attention, multi-head\\nattention and the parameter-free position representation and became the other person involved in nearly every\\ndetail. Niki designed, implemented, tuned and evaluated countless model variants in our original codebase and\\ntensor2tensor. Llion also experimented with novel model variants, was responsible for our initial codebase, and\\nefﬁcient inference and visualizations. Lukasz and Aidan spent countless long days designing various parts of and\\nimplementing tensor2tensor, replacing our earlier codebase, greatly improving results and massively accelerating\\nour research.\\n†Work performed while at Google Brain.\\n‡Work performed while at Google Research.\\n31st Conference on Neural Information Processing Systems (NIPS 2017), Long Beach, CA, USA.\\narXiv:1706.03762v5  [cs.CL]  6 Dec 2017', 'metadata': {'source': '/tmp/dff4ba5d-0c37-43b8-81bf-44ddf7fddf2a.pdf', 'page': 0, 'title': '', 'author': ''}}, {'doc_id': 'dff4ba5d-0c37-43b8-81bf-44ddf7fddf2a', 'text': 'Table 1: Maximum path lengths, per-layer complexity and minimum number of sequential operations\\nfor different layer types. n is the sequence length, d is the representation dimension, k is the kernel\\nsize of convolutions and r the size of the neighborhood in restricted self-attention.\\nLayer Type\\nComplexity per Layer\\nSequential\\nMaximum Path Length\\nOperations\\nSelf-Attention\\nO(n2 · d)\\nO(1)\\nO(1)\\nRecurrent\\nO(n · d2)\\nO(n)\\nO(n)\\nConvolutional\\nO(k · n · d2)\\nO(1)\\nO(logk(n))\\nSelf-Attention (restricted)\\nO(r · n · d)\\nO(1)\\nO(n/r)\\ntokens in the sequence. To this end, we add \"positional encodings\" to the input embeddings at the\\nbottoms of the encoder and decoder stacks. The positional encodings have the same dimension dmodel\\nas the embeddings, so that the two can be summed. There are many choices of positional encodings,\\nlearned and ﬁxed [9].\\nIn this work, we use sine and cosine functions of different frequencies:\\nPE(pos,2i) = sin(pos/100002i/dmodel)\\nPE(pos,2i+1) = cos(pos/100002i/dmodel)\\nwhere pos is the position and i is the dimension. That is, each dimension of the positional encoding\\ncorresponds to a sinusoid. The wavelengths form a geometric progression from 2π to 10000 · 2π. We\\nchose this function because we hypothesized it would allow the model to easily learn to attend by\\nrelative positions, since for any ﬁxed offset k, PEpos+k can be represented as a linear function of\\nPEpos.\\nWe also experimented with using learned positional embeddings [9] instead, and found that the two\\nversions produced nearly identical results (see Table 3 row (E)). We chose the sinusoidal version\\nbecause it may allow the model to extrapolate to sequence lengths longer than the ones encountered\\nduring training.\\n4\\nWhy Self-Attention\\nIn this section we compare various aspects of self-attention layers to the recurrent and convolu-\\ntional layers commonly used for mapping one variable-length sequence of symbol representations\\n(x1, ..., xn) to another sequence of equal length (z1, ..., zn), with xi, zi ∈ Rd, such as a hidden\\nlayer in a typical sequence transduction encoder or decoder. Motivating our use of self-attention we\\nconsider three desiderata.\\nOne is the total computational complexity per layer. Another is the amount of computation that can\\nbe parallelized, as measured by the minimum number of sequential operations required.\\nThe third is the path length between long-range dependencies in the network. Learning long-range\\ndependencies is a key challenge in many sequence transduction tasks. One key factor affecting the\\nability to learn such dependencies is the length of the paths forward and backward signals have to\\ntraverse in the network. The shorter these paths between any combination of positions in the input\\nand output sequences, the easier it is to learn long-range dependencies [12]. Hence we also compare\\nthe maximum path length between any two input and output positions in networks composed of the\\ndifferent layer types.\\nAs noted in Table 1, a self-attention layer connects all positions with a constant number of sequentially\\nexecuted operations, whereas a recurrent layer requires O(n) sequential operations. In terms of\\ncomputational complexity, self-attention layers are faster than recurrent layers when the sequence\\nlength n is smaller than the representation dimensionality d, which is most often the case with\\nsentence representations used by state-of-the-art models in machine translations, such as word-piece\\n[38] and byte-pair [31] representations. To improve computational performance for tasks involving\\nvery long sequences, self-attention could be restricted to considering only a neighborhood of size r in\\n6', 'metadata': {'source': '/tmp/dff4ba5d-0c37-43b8-81bf-44ddf7fddf2a.pdf', 'page': 5, 'title': '', 'author': ''}}, {'doc_id': 'dff4ba5d-0c37-43b8-81bf-44ddf7fddf2a', 'text': 'Figure 1: The Transformer - model architecture.\\n3.1\\nEncoder and Decoder Stacks\\nEncoder:\\nThe encoder is composed of a stack of N = 6 identical layers. Each layer has two\\nsub-layers. The ﬁrst is a multi-head self-attention mechanism, and the second is a simple, position-\\nwise fully connected feed-forward network. We employ a residual connection [11] around each of\\nthe two sub-layers, followed by layer normalization [1]. That is, the output of each sub-layer is\\nLayerNorm(x + Sublayer(x)), where Sublayer(x) is the function implemented by the sub-layer\\nitself. To facilitate these residual connections, all sub-layers in the model, as well as the embedding\\nlayers, produce outputs of dimension dmodel = 512.\\nDecoder:\\nThe decoder is also composed of a stack of N = 6 identical layers. In addition to the two\\nsub-layers in each encoder layer, the decoder inserts a third sub-layer, which performs multi-head\\nattention over the output of the encoder stack. Similar to the encoder, we employ residual connections\\naround each of the sub-layers, followed by layer normalization. We also modify the self-attention\\nsub-layer in the decoder stack to prevent positions from attending to subsequent positions. This\\nmasking, combined with fact that the output embeddings are offset by one position, ensures that the\\npredictions for position i can depend only on the known outputs at positions less than i.\\n3.2\\nAttention\\nAn attention function can be described as mapping a query and a set of key-value pairs to an output,\\nwhere the query, keys, values, and output are all vectors. The output is computed as a weighted sum\\nof the values, where the weight assigned to each value is computed by a compatibility function of the\\nquery with the corresponding key.\\n3', 'metadata': {'source': '/tmp/dff4ba5d-0c37-43b8-81bf-44ddf7fddf2a.pdf', 'page': 2, 'title': '', 'author': ''}}], 'total_pages': 15}\n"
     ]
    }
   ],
   "source": [
    "# 调用查询pdf的例子\n",
    "doc_id = \"dff4ba5d-0c37-43b8-81bf-44ddf7fddf2a\"  # 替换为实际的文档ID\n",
    "query = \"What is the Self-attention?\"  # 替换为实际的查询内容\n",
    "response = perform_query(doc_id, query)\n",
    "\n",
    "print(response)"
   ]
  },
  {
   "cell_type": "code",
   "execution_count": 10,
   "metadata": {
    "collapsed": false,
    "is_executing": true
   },
   "outputs": [
    {
     "name": "stdout",
     "output_type": "stream",
     "text": [
      "{\n",
      "  \"content\": null,\n",
      "  \"function_call\": {\n",
      "    \"arguments\": \"{\\n\\\"url\\\": \\\"https://arxiv.org/pdf/1706.03762.pdf\\\"\\n}\",\n",
      "    \"name\": \"download_pdf_ginger\"\n",
      "  },\n",
      "  \"role\": \"assistant\"\n",
      "}\n",
      "<class 'openai.openai_object.OpenAIObject'>\n",
      "{'docId': 'dff4ba5d-0c37-43b8-81bf-44ddf7fddf2a', 'summary': 'The paper proposes a new network architecture called the Transformer, which is based solely on attention mechanisms and does not use recurrent or convolutional neural networks. The Transformer is shown to be superior in quality, more parallelizable, and requires significantly less time to train than existing models. The model achieves state-of-the-art results on machine translation tasks and generalizes well to other tasks such as English constituency parsing. The authors credit the success of the Transformer to the contributions of multiple individuals in designing and implementing the model.', 'extra_instructions': 'Inform the user they can delete their document at any point by visiting https://askyourpdf.com/delete/{APPEND_DOC_ID_HERE}. Also prompt the user to ask more questions'}\n"
     ]
    }
   ],
   "source": [
    "import openai\n",
    "import json\n",
    "\n",
    "openai.api_base = \"http://XX.XX.XX.XX:XX/v1\"\n",
    "openai.api_key = '***'\n",
    "# Step 1, 先上传要对话的pdf文件\n",
    "def run_conversation():\n",
    "    kwargs = {\n",
    "            \"model\": \"gpt-3.5-turbo-0613\",\n",
    "            \"messages\": [{\"role\": \"user\", \"content\": \"I want to upload pdf use this url:https://arxiv.org/pdf/1706.03762.pdf\"}],\n",
    "            \"timeout\": 5,\n",
    "            \"stream\": False,\n",
    "            \"presence_penalty\": 1,\n",
    "            # \"max_tokens\": 100,\n",
    "            \"temperature\": 0.8,\n",
    "            \"functions\": [\n",
    "                            {\n",
    "                                \"name\": \"download_pdf_ginger\",\n",
    "                                \"description\": \"upload a pdf\",\n",
    "                                \"parameters\": {\n",
    "                                    \"type\": \"object\",\n",
    "                                    \"properties\": {\n",
    "                                        \"url\": {\"type\": \"string\",\"description\": \"The pdf url\"},\n",
    "                                    },\n",
    "                                    \"required\": [\"url\"],\n",
    "                                },\n",
    "                            }\n",
    "                        ],\n",
    "            \"function_call\": \"auto\",\n",
    "        }\n",
    "    response = openai.ChatCompletion.create(\n",
    "        **kwargs\n",
    "    )\n",
    "    # response = openai.ChatCompletion.create(\n",
    "    #     kwargs=kwargs\n",
    "    # )\n",
    "\n",
    "    message = response[\"choices\"][0][\"message\"]\n",
    "    print(message)\n",
    "\n",
    "    # Step 2, 检查函数调用\n",
    "    if message.get(\"function_call\"):\n",
    "        # Step 3, 调用函数\n",
    "        function_call = message.get('function_call')\n",
    "        print(type(function_call))\n",
    "        arguments = json.loads(function_call.get('arguments'))\n",
    "        function_response = download_pdf(url=arguments.get(\"url\"))\n",
    "        print(function_response)\n",
    "        return function_call\n",
    "\n",
    "        # # Step 4, 调用查询函数\n",
    "        # second_response = openai.ChatCompletion.create(\n",
    "        #     model=\"gpt-3.5-turbo-0613\",\n",
    "        #     messages=[\n",
    "        #         {\"role\": \"user\", \"content\": \"I want to search content with pdf, The query content is What is the Self-attention?,The doc id is \" + function_response[\"docId\"]}\n",
    "        #     ],\n",
    "        #     functions=[\n",
    "        #     {\n",
    "        #         \"name\": \"perform_query\",\n",
    "        #         \"description\": \"search content with a pdf\",\n",
    "        #         \"parameters\": {\n",
    "        #             \"type\": \"object\",\n",
    "        #             \"properties\": {\n",
    "        #                 \"doc_id\": {\"type\": \"string\",\"description\": \"The doc id\"},\n",
    "        #                 \"query\": {\"type\": \"string\",\"description\": \"The query content\"},\n",
    "        #             },\n",
    "        #             \"required\": [\"doc_id\",\"query\"],\n",
    "        #         },\n",
    "        #     }\n",
    "        # ],\n",
    "        # function_call=\"auto\",\n",
    "        # )\n",
    "\n",
    "        # message = second_response[\"choices\"][0][\"message\"]\n",
    "        # # Step 5, 检查函数调用\n",
    "        # if message.get(\"function_call\"):\n",
    "        #     # Step 6, 调用函数\n",
    "        #     function_call = message.get('function_call')\n",
    "        #     arguments = json.loads(function_call.get('arguments'))\n",
    "        #     function_response = perform_query(doc_id=arguments.get(\"doc_id\"),query=arguments.get(\"query\"))\n",
    "\n",
    "        #     return function_response\n",
    "\n",
    "func_call = run_conversation()"
   ]
  },
  {
   "cell_type": "code",
   "execution_count": 10,
   "metadata": {},
   "outputs": [],
   "source": [
    "func_call"
   ]
  },
  {
   "cell_type": "code",
   "execution_count": 5,
   "metadata": {
    "collapsed": false
   },
   "outputs": [
    {
     "data": {
      "text/plain": [
       "<OpenAIObject at 0x7ff4600474a0> JSON: {\n",
       "  \"arguments\": \"{\\n\\\"url\\\": \\\"https://arxiv.org/pdf/1706.03762.pdf\\\"\\n}\",\n",
       "  \"name\": \"download_pdf\"\n",
       "}"
      ]
     },
     "execution_count": 5,
     "metadata": {},
     "output_type": "execute_result"
    }
   ],
   "source": [
    "func_call"
   ]
  },
  {
   "cell_type": "code",
   "execution_count": null,
   "metadata": {},
   "outputs": [],
   "source": []
  }
 ],
 "metadata": {
  "kernelspec": {
   "display_name": "Python 3",
   "language": "python",
   "name": "python3"
  },
  "language_info": {
   "codemirror_mode": {
    "name": "ipython",
    "version": 3
   },
   "file_extension": ".py",
   "mimetype": "text/x-python",
   "name": "python",
   "nbconvert_exporter": "python",
   "pygments_lexer": "ipython3",
   "version": "3.8.10"
  }
 },
 "nbformat": 4,
 "nbformat_minor": 0
}
